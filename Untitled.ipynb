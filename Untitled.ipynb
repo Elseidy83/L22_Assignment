{
 "cells": [
  {
   "cell_type": "code",
   "execution_count": 5,
   "metadata": {},
   "outputs": [],
   "source": [
    "import pandas as pd\n",
    "import numpy as np\n",
    "# import cudf\n",
    "\n",
    "pandas_df = pd.DataFrame({'a': np.random.randint(0, 100000000, size=100000000),\n",
    "                          'b': np.random.randint(0, 100000000, size=100000000)})\n",
    "                          \n",
    "# cudf_df = cudf.DataFrame.from_pandas(pandas_df)"
   ]
  },
  {
   "cell_type": "code",
   "execution_count": 6,
   "metadata": {},
   "outputs": [
    {
     "name": "stdout",
     "output_type": "stream",
     "text": [
      "126 ms ± 729 µs per loop (mean ± std. dev. of 7 runs, 1 loop each)\n"
     ]
    }
   ],
   "source": [
    "%timeit pandas_df.a.mean()"
   ]
  },
  {
   "cell_type": "code",
   "execution_count": 7,
   "metadata": {},
   "outputs": [
    {
     "data": {
      "text/html": [
       "<div>\n",
       "<style scoped>\n",
       "    .dataframe tbody tr th:only-of-type {\n",
       "        vertical-align: middle;\n",
       "    }\n",
       "\n",
       "    .dataframe tbody tr th {\n",
       "        vertical-align: top;\n",
       "    }\n",
       "\n",
       "    .dataframe thead th {\n",
       "        text-align: right;\n",
       "    }\n",
       "</style>\n",
       "<table border=\"1\" class=\"dataframe\">\n",
       "  <thead>\n",
       "    <tr style=\"text-align: right;\">\n",
       "      <th></th>\n",
       "      <th>a</th>\n",
       "      <th>b</th>\n",
       "    </tr>\n",
       "  </thead>\n",
       "  <tbody>\n",
       "    <tr>\n",
       "      <th>0</th>\n",
       "      <td>12852827</td>\n",
       "      <td>25551781</td>\n",
       "    </tr>\n",
       "    <tr>\n",
       "      <th>1</th>\n",
       "      <td>68541672</td>\n",
       "      <td>33549943</td>\n",
       "    </tr>\n",
       "    <tr>\n",
       "      <th>2</th>\n",
       "      <td>98828985</td>\n",
       "      <td>81110614</td>\n",
       "    </tr>\n",
       "    <tr>\n",
       "      <th>3</th>\n",
       "      <td>94848712</td>\n",
       "      <td>26053099</td>\n",
       "    </tr>\n",
       "    <tr>\n",
       "      <th>4</th>\n",
       "      <td>48030751</td>\n",
       "      <td>87336090</td>\n",
       "    </tr>\n",
       "    <tr>\n",
       "      <th>...</th>\n",
       "      <td>...</td>\n",
       "      <td>...</td>\n",
       "    </tr>\n",
       "    <tr>\n",
       "      <th>99999995</th>\n",
       "      <td>72246940</td>\n",
       "      <td>47524269</td>\n",
       "    </tr>\n",
       "    <tr>\n",
       "      <th>99999996</th>\n",
       "      <td>98780082</td>\n",
       "      <td>46945188</td>\n",
       "    </tr>\n",
       "    <tr>\n",
       "      <th>99999997</th>\n",
       "      <td>76346338</td>\n",
       "      <td>19058264</td>\n",
       "    </tr>\n",
       "    <tr>\n",
       "      <th>99999998</th>\n",
       "      <td>46063251</td>\n",
       "      <td>71353855</td>\n",
       "    </tr>\n",
       "    <tr>\n",
       "      <th>99999999</th>\n",
       "      <td>58484837</td>\n",
       "      <td>34613355</td>\n",
       "    </tr>\n",
       "  </tbody>\n",
       "</table>\n",
       "<p>100000000 rows × 2 columns</p>\n",
       "</div>"
      ],
      "text/plain": [
       "                 a         b\n",
       "0         12852827  25551781\n",
       "1         68541672  33549943\n",
       "2         98828985  81110614\n",
       "3         94848712  26053099\n",
       "4         48030751  87336090\n",
       "...            ...       ...\n",
       "99999995  72246940  47524269\n",
       "99999996  98780082  46945188\n",
       "99999997  76346338  19058264\n",
       "99999998  46063251  71353855\n",
       "99999999  58484837  34613355\n",
       "\n",
       "[100000000 rows x 2 columns]"
      ]
     },
     "execution_count": 7,
     "metadata": {},
     "output_type": "execute_result"
    }
   ],
   "source": [
    "pandas_df"
   ]
  },
  {
   "cell_type": "code",
   "execution_count": null,
   "metadata": {},
   "outputs": [],
   "source": []
  }
 ],
 "metadata": {
  "kernelspec": {
   "display_name": "Python 3",
   "language": "python",
   "name": "python3"
  },
  "language_info": {
   "codemirror_mode": {
    "name": "ipython",
    "version": 3
   },
   "file_extension": ".py",
   "mimetype": "text/x-python",
   "name": "python",
   "nbconvert_exporter": "python",
   "pygments_lexer": "ipython3",
   "version": "3.8.5"
  }
 },
 "nbformat": 4,
 "nbformat_minor": 4
}
